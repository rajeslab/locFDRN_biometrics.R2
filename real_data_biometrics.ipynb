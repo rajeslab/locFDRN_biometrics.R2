{
 "cells": [
  {
   "cell_type": "markdown",
   "id": "7418dc1f-a28e-4cfe-9204-f940b92edaa8",
   "metadata": {},
   "source": [
    "### Set proper directory, Load packages and R Functions"
   ]
  },
  {
   "cell_type": "code",
   "execution_count": null,
   "id": "293013f3-68a2-4994-beef-c7fc5aa9de9c",
   "metadata": {},
   "outputs": [],
   "source": [
    "# You should have the R script 'sun_cai(2007)_est.R' in your working directory"
   ]
  },
  {
   "cell_type": "code",
   "execution_count": 9,
   "id": "eb11ce22-f9c3-48f2-a5bc-a3ef00f6ffa3",
   "metadata": {},
   "outputs": [],
   "source": [
    "import pandas as pd\n",
    "import numpy as np \n",
    "from bed_reader import open_bed, sample_file\n",
    "import time\n",
    "import re\n",
    "import os\n",
    "import math \n",
    "import itertools as itertools\n",
    "from itertools import product\n",
    "import statsmodels.stats.multitest\n",
    "from scipy.stats import norm\n",
    "from scipy.sparse import lil_matrix\n",
    "from scipy.io import savemat, loadmat\n",
    "from scipy.linalg import inv\n",
    "# Using R inside python\n",
    "import rpy2\n",
    "import rpy2.robjects as robjects\n",
    "from rpy2.robjects import pandas2ri\n",
    "from rpy2.robjects.vectors import FloatVector\n",
    "# Set working directory\n",
    "os.chdir(\"E:\\\\GWAS\\\\plink_win64_20231211\")\n",
    "# Defining the R script and loading the instance in Python\n",
    "r = robjects.r\n",
    "r['source']('sun_cai(2007)_est.R')\n",
    "\n",
    "# Loading the functions for sun and cai method defined in R.\n",
    "est_sun_cai_r = robjects.globalenv['epsest.func']   #### function for estimating $\\pi$\n",
    "\n",
    "rej_sun_cai_r = robjects.globalenv['adaptZ.funcnull']\n",
    "\n",
    "lcfdr_sun_cai_r = robjects.globalenv['adaptZ.funcnulllcfdr']\n",
    "def locFDRS_GWAS_thread(Z,scov,B,b,pi,tau):\n",
    "    K = np.size(Z);\n",
    "    locFDR = np.zeros(K);\n",
    "    for i in range(K):\n",
    "        Z_sub = Z[max(i-B,0):(min(i+B,K-1)+1)];\n",
    "        cov_sub = scov[max(i-B,0):(min(i+B,K-1)+1),max(i-B,0):(min(i+B,K-1)+1)].toarray();\n",
    "        l = min(i+B,K-1) - max(i-B,0) + 1;\n",
    "        H = product([0,1], repeat=l);                                           \n",
    "        sum1 = sum2 = 0;\n",
    "        for s in H:\n",
    "            if(s[min(B,i)] == 0): \n",
    "                t = ((np.exp(-(1/2)*np.dot(np.inner((Z_sub - np.multiply(s,b)), \n",
    "                                         np.linalg.inv(cov_sub+np.multiply(np.diag(s),pow(tau,2)))),\n",
    "                                  (Z_sub - np.multiply(s,b))))* \n",
    "                pow(pi,sum(s)) * pow(1-pi,l-sum(s)))/np.sqrt(np.linalg.det(cov_sub+np.multiply(np.diag(s),pow(tau,2)))));\n",
    "                sum1 = sum1 + t;\n",
    "                sum2 = sum2 + t;\n",
    "            else:\n",
    "                sum2 = sum2 + ((np.exp(-(1/2)*np.inner(np.dot(Z_sub - np.multiply(s,b), \n",
    "                                         np.linalg.inv(cov_sub+np.multiply(np.diag(s),pow(tau,2)))),\n",
    "                                  (Z_sub - np.multiply(s,b))))* \n",
    "               pow(pi,sum(s)) * pow(1-pi,l-sum(s)))/np.sqrt(np.linalg.det(cov_sub+np.multiply(np.diag(s),pow(tau,2)))));\n",
    "        locFDR[i]= sum1/sum2;\n",
    "  \n",
    "  \n",
    "    return(locFDR);\n",
    "\n",
    "def rejected(p_val,level):\n",
    "    oo = np.argsort(p_val);\n",
    "    ss = np.sort(p_val);\n",
    "    stat = np.divide(np.cumsum(ss),np.arange(1,np.size(ss)+1,1));\n",
    "    collection = np.where(stat <= level);\n",
    "    return(oo[collection]);"
   ]
  },
  {
   "cell_type": "markdown",
   "id": "4ac54fb8-deb1-4ed6-ae53-ad7f0e2d4dc3",
   "metadata": {},
   "source": [
    "### Generate data (y,X) by setting parameters of your own choice"
   ]
  },
  {
   "cell_type": "code",
   "execution_count": null,
   "id": "c4138014-d155-4ba3-9c47-ffafbe415ef7",
   "metadata": {},
   "outputs": [],
   "source": [
    "# For finding Z-scores and it's covariance, you need more sample size than the number of variables (n>p).\n",
    "# If you have more variables than sample size (p>n), then use prior information (like short range dependence in GWAS) to find Z-scores and their covariance. One such strategy is given in our GWAS analysis as an example.\n",
    "# This step is not needed if you already have real data with you in (y,X) format"
   ]
  },
  {
   "cell_type": "code",
   "execution_count": 287,
   "id": "3fea91f8-e867-4dba-b9b6-4da8333f3a3a",
   "metadata": {},
   "outputs": [],
   "source": [
    "import numpy as np\n",
    "\n",
    "# Set the random seed for reproducibility\n",
    "np.random.seed(42)\n",
    "\n",
    "\n",
    "# Parameters\n",
    "n = 3000  # Number of data points (rows of X)\n",
    "p = 1000   # Number of predictors (columns of X)\n",
    "rho = 0.8        # Autoregressive parameter\n",
    "k = 60            # number of variables with nonzero coefficients\n",
    "amplitude = 3.5   # signal amplitude (for noise level = 1)\n",
    "\n",
    "# Step 1: Create the AR(1) covariance matrix\n",
    "cov_matrix = rho ** np.abs(np.subtract.outer(np.arange(p), np.arange(p)))\n",
    "\n",
    "# Step 2: Generate the design matrix X with rows from a multivariate normal distribution\n",
    "X = np.random.multivariate_normal(mean=np.zeros(p), cov=cov_matrix, size=n)\n",
    "\n",
    "# Step 3: Initialize the beta vector with nonzero values\n",
    "beta = np.random.normal(0,0.1,p)\n",
    "\n",
    "# Step 4: Randomly choose indices for zeros\n",
    "zero_indices = np.random.choice(p, p-k, replace=False);\n",
    "\n",
    "# Step 5: Set the chosen positions in beta to zero\n",
    "beta[zero_indices] = 0;\n",
    "\n",
    "# Step 6: Generate the error term epsilon (assume standard normal errors)\n",
    "epsilon = np.random.randn(n)\n",
    "\n",
    "# Step 7: Calculate the response variable y\n",
    "y = X @ beta + epsilon"
   ]
  },
  {
   "cell_type": "markdown",
   "id": "db460cf9-d39d-44d5-9f9b-4ee7affd5487",
   "metadata": {},
   "source": [
    "### Find Z-scores and their correlation"
   ]
  },
  {
   "cell_type": "code",
   "execution_count": 1,
   "id": "95085f3c-2f51-407c-8c70-ad79712a9d7e",
   "metadata": {},
   "outputs": [],
   "source": [
    "# Use your real data (y,X) here"
   ]
  },
  {
   "cell_type": "code",
   "execution_count": 291,
   "id": "484d9643-837a-48fb-8037-8bae0937da68",
   "metadata": {},
   "outputs": [],
   "source": [
    "X = (X - np.mean(X)) #/ np.std(X)\n",
    "y = (y-np.mean(y))#/np.std(y)\n",
    "XTX = np.matmul(np.transpose(np.array(X)),np.array(X));\n",
    "XTXinv = np.linalg.inv(XTX);\n",
    "XTy = np.matmul(np.transpose(np.array(X)),np.array(y));\n",
    "betahat = np.matmul(XTXinv,XTy)\n",
    "e =  y-np.matmul(np.array(X),betahat)\n",
    "est_sigma = np.sqrt(np.dot(e,e)/(np.shape(X)[0]-np.shape(X)[1]))\n",
    "# S_inv = np.diag(np.sqrt(1./np.diag(np.array(XTXinv))));\n",
    "S_inv = np.diag((np.diag(XTXinv)**-0.5));\n",
    "corrzscore = (np.matmul(np.matmul(S_inv,XTXinv),S_inv)); ### correlation matrix of z-scores\n",
    "del XTXinv\n",
    "del XTX\n",
    "del e\n",
    "del XTy\n",
    "del X;\n",
    "zscore = np.matmul(S_inv,betahat)/est_sigma ### required z-scores\n",
    "del(S_inv);\n",
    "del(betahat);"
   ]
  },
  {
   "cell_type": "markdown",
   "id": "16aab980-a666-40e1-a2a9-93beba7fc7eb",
   "metadata": {},
   "source": [
    "### estimate of non-null proportion by Jin and Cai (2008) Procedure"
   ]
  },
  {
   "cell_type": "code",
   "execution_count": 336,
   "id": "91138188-d481-465b-8056-6a2d7b95f6aa",
   "metadata": {},
   "outputs": [
    {
     "name": "stdout",
     "output_type": "stream",
     "text": [
      "['estimate of non-null proportion', 0.04041045029197221]\n"
     ]
    }
   ],
   "source": [
    "pi_est = max(est_sun_cai_r(FloatVector(zscore),0.,1.)+0.)\n",
    "print([\"estimate of non-null proportion\",pi_est])\n",
    "lcfdrsc = np.array(lcfdr_sun_cai_r(FloatVector(zscore)));"
   ]
  },
  {
   "cell_type": "markdown",
   "id": "a6e63147-3aaf-47e2-ba8e-edf1b0957894",
   "metadata": {},
   "source": [
    "### estimate other two parameters of two group model by EM algorithm"
   ]
  },
  {
   "cell_type": "code",
   "execution_count": 338,
   "id": "9967e338-f1a7-4ead-b81a-651d774aa004",
   "metadata": {},
   "outputs": [
    {
     "name": "stdout",
     "output_type": "stream",
     "text": [
      "1\n",
      "2\n",
      "3\n",
      "4\n",
      "5\n",
      "6\n",
      "7\n",
      "8\n",
      "9\n",
      "10\n",
      "11\n",
      "[-0.59144951  5.74208638]\n",
      "['estimates of other parameters of two group model', array([-0.59144951,  5.74208638])]\n"
     ]
    }
   ],
   "source": [
    "pi_est = max(est_sun_cai_r(FloatVector(zscore),0.,1.)+0.001);\n",
    "maxiter =100;\n",
    "B = 1;\n",
    "est = np.zeros(2);\n",
    "for i in range(B):\n",
    "    est_mat = np.zeros(2*maxiter).reshape(maxiter ,2)\n",
    "    z=zscore\n",
    "    scovest = scovJ = lil_matrix((np.size(z), np.size(z)));\n",
    "    scovest.setdiag(np.ones(np.size(z)),0);\n",
    "    b_ini = np.mean(z)/pi_est; tausq_ini = np.amax([0.,(np.var(z)-1-(pow(b_ini,2)*(1-pow(pi_est,2))))/pi_est]); \n",
    "    est_mat[0,0] = b_ini; est_mat[0,1] = tausq_ini;\n",
    "    for iter in 1+np.arange(maxiter-1):\n",
    "      print(iter);\n",
    "      p_tau = 1-locFDRS_GWAS_thread(z,scovest,0,b_ini,pi_est,np.sqrt(tausq_ini));\n",
    "      #pi_next = np.mean(p_tau);\n",
    "      b_next = (np.sum((p_tau)*z)/max(np.sum((p_tau)),0.01));\n",
    "      tausq_next = np.amax([0,(np.sum((p_tau)*pow(z-b_next,2))\n",
    "      /max(np.sum((p_tau)),0.01))-1]);\n",
    "      b_ini = b_next; tausq_ini = tausq_next;\n",
    "      est_mat[iter,0] = b_ini; est_mat[iter,1] = tausq_ini;\n",
    "      if np.amax(abs(est_mat[iter,:]-est_mat[iter-1,:])) < pow(10,-5):\n",
    "         print(est_mat[iter,:]);\n",
    "         break;\n",
    "    est = est+est_mat[iter,:]\n",
    "print([\"estimates of other parameters of two group model\",est/B]);"
   ]
  },
  {
   "cell_type": "markdown",
   "id": "454f2e3d-c4ae-459d-9b31-b7a16b5b9ac6",
   "metadata": {},
   "source": [
    "### Calculate locFDR statistics with estimated parameters"
   ]
  },
  {
   "cell_type": "code",
   "execution_count": 297,
   "id": "c8883e79-8359-4a2a-a1bc-7f8594309c0e",
   "metadata": {},
   "outputs": [],
   "source": [
    "K = np.size(zscore);\n",
    "N=5;\n",
    "ScovJ = lil_matrix((K, K));\n",
    "for n in range((2*N)+1):\n",
    "    ScovJ.setdiag(corrzscore.diagonal(n),n);\n",
    "    ScovJ.setdiag(corrzscore.diagonal(n),-n);\n",
    "\n",
    "del corrzscore\n",
    "lcfdr0 = locFDRS_GWAS_thread(zscore, ScovJ, 0, b_next, pi_est, np.sqrt(tausq_next));\n",
    "lcfdr1 = locFDRS_GWAS_thread(zscore, ScovJ, 1, b_next, pi_est, np.sqrt(tausq_next));\n",
    "lcfdr2 = locFDRS_GWAS_thread(zscore, ScovJ, 2, b_next, pi_est, np.sqrt(tausq_next));\n",
    "lcfdr3 = locFDRS_GWAS_thread(zscore, ScovJ, 3, b_next, pi_est, np.sqrt(tausq_next));"
   ]
  },
  {
   "cell_type": "code",
   "execution_count": 316,
   "id": "27f62e19-507c-4e4b-a9d2-d1fe27001ebc",
   "metadata": {},
   "outputs": [],
   "source": [
    "alpha = 0.05; ### Set significance level"
   ]
  },
  {
   "cell_type": "markdown",
   "id": "3ff4c6d1-1c31-4e50-b572-f2cd2ee36234",
   "metadata": {},
   "source": [
    "### Number of rejections"
   ]
  },
  {
   "cell_type": "code",
   "execution_count": 334,
   "id": "da47617f-11c8-4bff-8e40-712588e9d081",
   "metadata": {},
   "outputs": [
    {
     "name": "stdout",
     "output_type": "stream",
     "text": [
      "['BH procedure', 7]\n",
      "['BH procedure', 7]\n",
      "['Sun and Cai Procedure', 7]\n",
      "['T0-rule', 6]\n",
      "['T1-rule', 14]\n",
      "['T2-rule', 17]\n",
      "['T3-rule', 17]\n"
     ]
    }
   ],
   "source": [
    "print([\"BH procedure\",np.size(np.where(statsmodels.stats.multitest.multipletests(2*(1-norm.cdf(abs(zscore))), \n",
    "                                                   alpha=(alpha/(1-0.)), method='fdr_bh', \n",
    "                                                         is_sorted=False, returnsorted=False)[0]==True)[0])])\n",
    "print([\"BH procedure\",np.size(np.where(statsmodels.stats.multitest.multipletests(2*(1-norm.cdf(abs(zscore))), \n",
    "                                                   alpha=(alpha/(1-pi_est)), method='fdr_bh', \n",
    "                                                         is_sorted=False, returnsorted=False)[0]==True)[0])])\n",
    "print([\"Sun and Cai Procedure\",np.size(rejected(lcfdrsc,alpha))])\n",
    "print([\"T0-rule\",np.size(rejected(lcfdr0,alpha))])\n",
    "print([\"T1-rule\",np.size(rejected(lcfdr1,alpha))])\n",
    "print([\"T2-rule\",np.size(rejected(lcfdr2,alpha))])\n",
    "print([\"T3-rule\",np.size(rejected(lcfdr3,alpha))])"
   ]
  },
  {
   "cell_type": "markdown",
   "id": "57e467da-093f-4b68-a5ca-23a450190974",
   "metadata": {},
   "source": [
    "### Checking how many selected variables are truly non-null"
   ]
  },
  {
   "cell_type": "code",
   "execution_count": null,
   "id": "edf927f3-cd8f-4d97-a618-a3aca7afd2a8",
   "metadata": {},
   "outputs": [],
   "source": [
    "# You do not need this step for real data since you do not know the truth for real data"
   ]
  },
  {
   "cell_type": "code",
   "execution_count": 305,
   "id": "c4715ec4-d070-43f5-abb9-4a322c6bd972",
   "metadata": {},
   "outputs": [],
   "source": [
    "idxNonNull=np.where(beta!=0)[0]"
   ]
  },
  {
   "cell_type": "code",
   "execution_count": 344,
   "id": "faa9cc27-be23-410f-9999-652e5447141d",
   "metadata": {},
   "outputs": [
    {
     "name": "stdout",
     "output_type": "stream",
     "text": [
      "['BH procedure', 7]\n",
      "['BH procedure', 7]\n",
      "['Sun and Cai Procedure', 7]\n",
      "['T0-rule', 6]\n",
      "['T1-rule', 13]\n",
      "['T2-rule', 16]\n",
      "['T3-rule', 17]\n"
     ]
    }
   ],
   "source": [
    "print([\"BH procedure\",np.size(np.intersect1d(np.where(statsmodels.stats.multitest.multipletests(2*(1-norm.cdf(abs(zscore))), \n",
    "                                                   alpha=(alpha/(1-0.)), method='fdr_bh', \n",
    "                                                         is_sorted=False, returnsorted=False)[0]==True)[0],idxNonNull))])\n",
    "print([\"BH procedure\",np.size(np.intersect1d(np.where(statsmodels.stats.multitest.multipletests(2*(1-norm.cdf(abs(zscore))), \n",
    "                                                   alpha=(alpha/(1-pi_est)), method='fdr_bh', \n",
    "                                                         is_sorted=False, returnsorted=False)[0]==True)[0],idxNonNull))])\n",
    "print([\"Sun and Cai Procedure\",np.size(np.intersect1d(rejected(lcfdrsc,alpha),idxNonNull))])\n",
    "print([\"T0-rule\",np.size(np.intersect1d(rejected(lcfdr0,alpha),idxNonNull))])\n",
    "print([\"T1-rule\",np.size(np.intersect1d(rejected(lcfdr1,alpha),idxNonNull))])\n",
    "print([\"T2-rule\",np.size(np.intersect1d(rejected(lcfdr2,alpha),idxNonNull))])\n",
    "print([\"T3-rule\",np.size(np.intersect1d(rejected(lcfdr3,alpha),idxNonNull))])"
   ]
  }
 ],
 "metadata": {
  "kernelspec": {
   "display_name": "Python 3 (ipykernel)",
   "language": "python",
   "name": "python3"
  },
  "language_info": {
   "codemirror_mode": {
    "name": "ipython",
    "version": 3
   },
   "file_extension": ".py",
   "mimetype": "text/x-python",
   "name": "python",
   "nbconvert_exporter": "python",
   "pygments_lexer": "ipython3",
   "version": "3.12.4"
  }
 },
 "nbformat": 4,
 "nbformat_minor": 5
}
